{
 "cells": [
  {
   "cell_type": "markdown",
   "id": "27a7e362-92c2-4276-8ee0-a2b8d4ee6a2d",
   "metadata": {},
   "source": [
    "1. Write a Python program to reverse a string without using any built-in string reversal functions."
   ]
  },
  {
   "cell_type": "code",
   "execution_count": 1,
   "id": "ffaa6346-cc6f-4bb2-bafc-f20bac4d4d6f",
   "metadata": {},
   "outputs": [
    {
     "name": "stdout",
     "output_type": "stream",
     "text": [
      "sllikswP ,olleH\n"
     ]
    }
   ],
   "source": [
    "string = \"Hello, Pwskills\"\n",
    "\n",
    "def reverse_string(string):\n",
    "    char = list(string)\n",
    "    left = 0\n",
    "    right = len(char) - 1\n",
    "    while left < right:\n",
    "        char[left], char[right] = char[right], char[left]\n",
    "        left += 1\n",
    "        right -= 1\n",
    "    reversed_string = ''.join(char)\n",
    "    \n",
    "    return reversed_string\n",
    "print(reverse_string(string))"
   ]
  },
  {
   "cell_type": "markdown",
   "id": "8786317e-b8fd-4556-ae3d-60c875d7111d",
   "metadata": {},
   "source": [
    "2. Implement a function to check if a given string is a palindrome."
   ]
  },
  {
   "cell_type": "code",
   "execution_count": 2,
   "id": "9e41e212-13ed-4f53-8ab8-a25a9527810f",
   "metadata": {},
   "outputs": [
    {
     "name": "stdout",
     "output_type": "stream",
     "text": [
      "True\n",
      "True\n",
      "False\n"
     ]
    }
   ],
   "source": [
    "def isPalindrome(string):\n",
    "    cleaned_string = ''.join(char.lower() for char in string if char.isalnum())\n",
    "    \n",
    "    return cleaned_string == cleaned_string[::-1]\n",
    "input_string = \"A man, a plan, a canal: Panama\"\n",
    "print(isPalindrome(input_string))\n",
    "\n",
    "input_string = \"racecar\"\n",
    "print(isPalindrome(input_string)) \n",
    "\n",
    "input_string = \"Hello, World!\"\n",
    "print(isPalindrome(input_string))    "
   ]
  },
  {
   "cell_type": "markdown",
   "id": "715b1b3c-c169-43a6-a205-c41ebe4ff361",
   "metadata": {
    "tags": []
   },
   "source": [
    "3. Write a program to find the largest element in a given list.\n"
   ]
  },
  {
   "cell_type": "code",
   "execution_count": 3,
   "id": "57e33384-9b63-4c66-af47-2e887e30a342",
   "metadata": {
    "tags": []
   },
   "outputs": [
    {
     "name": "stdout",
     "output_type": "stream",
     "text": [
      "78\n"
     ]
    }
   ],
   "source": [
    "nums = [12, 45, 67, 23, 9, 78, 54]\n",
    "\n",
    "def largestElement(nums):\n",
    "    \n",
    "    \n",
    "    largest = nums[0]\n",
    "    \n",
    "    for num in nums:\n",
    "        if num > largest:\n",
    "            largest = num\n",
    "            \n",
    "    return largest\n",
    "\n",
    "result = largestElement(nums)\n",
    "\n",
    "print(result)\n",
    "    "
   ]
  },
  {
   "cell_type": "markdown",
   "id": "91a14aa9-2ae7-47a9-8dc7-c5951226e6c4",
   "metadata": {},
   "source": [
    "4. Implement a function to count the occurrence of each element in a list."
   ]
  },
  {
   "cell_type": "code",
   "execution_count": 4,
   "id": "c22f72fc-69eb-47f7-bfa9-bd8a042fc70a",
   "metadata": {},
   "outputs": [
    {
     "name": "stdout",
     "output_type": "stream",
     "text": [
      "{1: 3, 2: 2, 5: 2, 6: 1, 8: 1}\n"
     ]
    }
   ],
   "source": [
    "def countOccurrence(lst):\n",
    "    counts = {}\n",
    "    for i in lst:\n",
    "        if i in counts:\n",
    "            counts[i] += 1\n",
    "        else:\n",
    "            counts[i] = 1\n",
    "    return counts\n",
    "lst = [1, 2, 1, 5, 6, 2, 8, 5, 1]\n",
    "print(countOccurrence(lst))"
   ]
  },
  {
   "cell_type": "markdown",
   "id": "6acf037a-a7a7-4d53-9137-8bf83904971f",
   "metadata": {},
   "source": [
    "5. Write a Python program to find the second largest number in a list.\n"
   ]
  },
  {
   "cell_type": "code",
   "execution_count": 5,
   "id": "9d329032-ffc8-4424-9a5f-417249daa18c",
   "metadata": {},
   "outputs": [
    {
     "name": "stdout",
     "output_type": "stream",
     "text": [
      "The second largest number in the list is: 78\n"
     ]
    }
   ],
   "source": [
    "def find_second_largest(lst):\n",
    "    if len(lst) < 2:\n",
    "        return None\n",
    "\n",
    "    largest = max(lst[0], lst[1])\n",
    "    second_largest = min(lst[0], lst[1])\n",
    "\n",
    "    for i in range(2, len(lst)):\n",
    "        if lst[i] > largest:\n",
    "            second_largest = largest\n",
    "            largest = lst[i]\n",
    "        elif lst[i] > second_largest:\n",
    "            second_largest = lst[i]\n",
    "\n",
    "    return second_largest\n",
    "\n",
    "\n",
    "my_list = [12, 45, 78, 23, 56, 89, 34]\n",
    "second_largest_num = find_second_largest(my_list)\n",
    "print(\"The second largest number in the list is:\", second_largest_num)\n"
   ]
  },
  {
   "cell_type": "markdown",
   "id": "11e335fd-cba8-4e6b-92cb-cf62505cf092",
   "metadata": {},
   "source": [
    "6. Implement a function to remove duplicate elements from a list.\n"
   ]
  },
  {
   "cell_type": "code",
   "execution_count": 6,
   "id": "ab52b876-93fe-4656-8b13-b1a6faf7b328",
   "metadata": {},
   "outputs": [
    {
     "name": "stdout",
     "output_type": "stream",
     "text": [
      "List with duplicates removed: [1, 2, 3, 4, 5]\n"
     ]
    }
   ],
   "source": [
    "def remove_duplicates(lst):\n",
    "    return list(set(lst))\n",
    "\n",
    "\n",
    "my_list = [1, 2, 3, 2, 1, 3, 4, 5, 4, 2, 2]\n",
    "unique_list = remove_duplicates(my_list)\n",
    "print(\"List with duplicates removed:\", unique_list)\n"
   ]
  },
  {
   "cell_type": "markdown",
   "id": "0bd3be0a-3ad7-40b4-ad02-ebbbbc7984ea",
   "metadata": {},
   "source": [
    "7. Write a program to calculate the factorial of a given number.\n"
   ]
  },
  {
   "cell_type": "code",
   "execution_count": 7,
   "id": "63036c10-4166-4117-9437-8a134bc0f9ab",
   "metadata": {},
   "outputs": [
    {
     "name": "stdout",
     "output_type": "stream",
     "text": [
      "120\n"
     ]
    }
   ],
   "source": [
    "n = 5\n",
    "\n",
    "def find_factorial(n):\n",
    "    factorial = 1\n",
    "\n",
    "    for i in range(n-1):\n",
    "        factorial *= n - i\n",
    "\n",
    "    return factorial\n",
    "\n",
    "print(find_factorial(n))"
   ]
  },
  {
   "cell_type": "markdown",
   "id": "98d4c52e-4cf0-4daf-b63b-f2d340b94b9b",
   "metadata": {},
   "source": [
    "8. Implement a function to check if a given number is prime.\n"
   ]
  },
  {
   "cell_type": "code",
   "execution_count": 8,
   "id": "a32cb140-da03-4b62-a363-fa5ca2572b2e",
   "metadata": {},
   "outputs": [
    {
     "name": "stdin",
     "output_type": "stream",
     "text": [
      "number: 11\n"
     ]
    },
    {
     "name": "stdout",
     "output_type": "stream",
     "text": [
      "True\n"
     ]
    }
   ],
   "source": [
    "num= int(input(\"number:\"))\n",
    "\n",
    "def prime(num):\n",
    "    while num > 9:\n",
    "        if num % 2 == 0:\n",
    "            return False\n",
    "        elif num % 3 == 0:\n",
    "            return False\n",
    "        elif num % 7 == 0:\n",
    "            return False\n",
    "        else:\n",
    "            return True\n",
    "    while 1 < num <= 9:\n",
    "        if num %2 == 0:\n",
    "            return False\n",
    "        elif num % 3 == 0:\n",
    "            return False\n",
    "        else:\n",
    "            return True\n",
    "    return\n",
    "print(prime(num))"
   ]
  },
  {
   "cell_type": "markdown",
   "id": "293cd862-7113-434a-9372-20f2934e3a4f",
   "metadata": {},
   "source": [
    "9. Write a Python program to sort a list of integers in ascending order"
   ]
  },
  {
   "cell_type": "code",
   "execution_count": 9,
   "id": "464cbac2-4525-4d4b-a7a7-e245b90e7d16",
   "metadata": {},
   "outputs": [
    {
     "name": "stdout",
     "output_type": "stream",
     "text": [
      "[1, 2, 4, 7, 9]\n"
     ]
    }
   ],
   "source": [
    "def sort_list_ascending(my_list):\n",
    "    my_list.sort()\n",
    "    return my_list\n",
    "\n",
    "# Example usage\n",
    "my_list = [7, 2, 9, 1, 4]\n",
    "sorted_list = sort_list_ascending(my_list)\n",
    "print(sorted_list)\n"
   ]
  },
  {
   "cell_type": "markdown",
   "id": "e75c4084-b972-4549-b4f9-76b79fbf9e3e",
   "metadata": {},
   "source": [
    "10. Implement a function to find the sum of all numbers in a list"
   ]
  },
  {
   "cell_type": "code",
   "execution_count": 10,
   "id": "d9161bf5-a77a-468e-a762-267d20a96368",
   "metadata": {},
   "outputs": [
    {
     "name": "stdout",
     "output_type": "stream",
     "text": [
      "40\n"
     ]
    }
   ],
   "source": [
    "lst = [1,2,5,7,5,8,4,8]\n",
    "def lstSum(lst):\n",
    "    lst_sum = 0\n",
    "    for i in lst:\n",
    "        lst_sum += i\n",
    "    return lst_sum\n",
    "\n",
    "print(lstSum(lst))"
   ]
  },
  {
   "cell_type": "markdown",
   "id": "d8318e79-d4e1-4ee7-8715-6420662eb3b2",
   "metadata": {},
   "source": [
    "11. Write a program to find the common elements between two lists.\n"
   ]
  },
  {
   "cell_type": "code",
   "execution_count": 4,
   "id": "2a60d942-f567-4d21-9b57-1ceb3eca32b3",
   "metadata": {},
   "outputs": [
    {
     "name": "stdout",
     "output_type": "stream",
     "text": [
      "[2, 5, 7, 5, 8, 8]\n"
     ]
    }
   ],
   "source": [
    "list1 = [1,2,5,7,5,8,4,8]\n",
    "list2 = [8,8,2,7,5,3,9,14]\n",
    "\n",
    "def common_elements(list1, list2):\n",
    "    common = []\n",
    "\n",
    "    for element in list1:\n",
    "        if element in list2:\n",
    "            common.append(element)\n",
    "    return common\n",
    "print(common_elements(list1, list2))"
   ]
  },
  {
   "cell_type": "markdown",
   "id": "62848f0f-27f2-4433-ac22-4cd4c22f3966",
   "metadata": {},
   "source": [
    "12. Implement a function to check if a given string is an anagram of another string.\n"
   ]
  },
  {
   "cell_type": "code",
   "execution_count": 3,
   "id": "eb059cfc-a20c-458e-95a5-53d5207f3435",
   "metadata": {},
   "outputs": [
    {
     "name": "stdout",
     "output_type": "stream",
     "text": [
      "True\n"
     ]
    }
   ],
   "source": [
    "str1 = \"Thicken\"\n",
    "str2 = \"Kitchen\"\n",
    "\n",
    "def checkAnagram(str1, str2):\n",
    "    for i in str1:\n",
    "        if i in str2:\n",
    "            return True\n",
    "        else:\n",
    "            False\n",
    "    return\n",
    "print(checkAnagram(str1, str2))\n",
    "    "
   ]
  },
  {
   "cell_type": "markdown",
   "id": "7089c379-bed0-441a-964a-d685d92e9edd",
   "metadata": {},
   "source": [
    "13. Write a Python program to generate all permutations of a given string.\n"
   ]
  },
  {
   "cell_type": "code",
   "execution_count": 2,
   "id": "d32c9f34-f500-4ba3-b64a-96a7755c724a",
   "metadata": {},
   "outputs": [
    {
     "name": "stdout",
     "output_type": "stream",
     "text": [
      "xyz\n",
      "xzy\n",
      "yxz\n",
      "yzx\n",
      "zxy\n",
      "zyx\n"
     ]
    }
   ],
   "source": [
    "from itertools import permutations\n",
    "my_string = \"xyz\"\n",
    "def generate_permutations(my_string):\n",
    "    perm = permutations(my_string)\n",
    "    for p in perm:\n",
    "        print(''.join(p))\n",
    "generate_permutations(my_string)"
   ]
  },
  {
   "cell_type": "markdown",
   "id": "8cef9fac-19fa-4515-8331-5b9483d2d69c",
   "metadata": {},
   "source": [
    "4. Implement a function to calculate the Fibonacci sequence up to a given number of terms."
   ]
  },
  {
   "cell_type": "code",
   "execution_count": 1,
   "id": "f1910cab-47e1-44fb-a548-c328c2c74694",
   "metadata": {},
   "outputs": [
    {
     "name": "stdout",
     "output_type": "stream",
     "text": [
      "[0, 1, 1, 2, 3, 5, 8, 13, 21, 34, 55, 89, 144, 233, 377]\n"
     ]
    }
   ],
   "source": [
    "num_terms = 15\n",
    "def fibonacci_sequence(num_terms):\n",
    "    sequence = []\n",
    "    if num_terms <= 0:\n",
    "        return sequence\n",
    "\n",
    "    a, b = 0, 1\n",
    "    sequence.append(a)\n",
    "\n",
    "    for _ in range(1, num_terms):\n",
    "        sequence.append(b)\n",
    "        a, b = b, a + b\n",
    "\n",
    "    return sequence\n",
    "fib_sequence = fibonacci_sequence(num_terms)\n",
    "print(fib_sequence)"
   ]
  },
  {
   "cell_type": "markdown",
   "id": "8991d6c8-df20-453a-b2b7-3590832c8867",
   "metadata": {},
   "source": [
    "15. Write a program to find the median of a list of numbers."
   ]
  },
  {
   "cell_type": "code",
   "execution_count": 6,
   "id": "5e682d65-d093-4856-bf8d-095b1eb77a8c",
   "metadata": {},
   "outputs": [
    {
     "name": "stdout",
     "output_type": "stream",
     "text": [
      "Median: 6\n"
     ]
    }
   ],
   "source": [
    "def find_median(numbers):\n",
    "    sorted_numbers = sorted(numbers)\n",
    "    n = len(sorted_numbers)\n",
    "\n",
    "    if n % 2 == 0:\n",
    "        mid_index = n // 2\n",
    "        median = (sorted_numbers[mid_index - 1] + sorted_numbers[mid_index]) / 2\n",
    "    else:\n",
    "        mid_index = n // 2\n",
    "        median = sorted_numbers[mid_index]\n",
    "\n",
    "    return median\n",
    "\n",
    "\n",
    "number_list = [2,5,6,7,3,8,9]\n",
    "median_value = find_median(number_list)\n",
    "print(\"Median:\", median_value)\n"
   ]
  },
  {
   "cell_type": "markdown",
   "id": "dcac0b2a-7254-49f5-a06b-c7627cafe89a",
   "metadata": {},
   "source": [
    "16. Implement a function to check if a given list is sorted in non-decreasing order"
   ]
  },
  {
   "cell_type": "code",
   "execution_count": 2,
   "id": "831ffb4e-13a3-4985-b4f9-44b23c1ff7f3",
   "metadata": {},
   "outputs": [
    {
     "name": "stdout",
     "output_type": "stream",
     "text": [
      "True\n",
      "False\n"
     ]
    }
   ],
   "source": [
    "def is_sorted(numbers):\n",
    "    n = len(numbers)\n",
    "\n",
    "    for i in range(1, n):\n",
    "        if numbers[i] < numbers[i - 1]:\n",
    "            return False\n",
    "\n",
    "    return True\n",
    "\n",
    "# Example usage\n",
    "number_list = [1, 2, 3, 4, 5]\n",
    "print(is_sorted(number_list))  # Output: True\n",
    "\n",
    "number_list = [7, 3, 1, 4, 2, 6, 5]\n",
    "print(is_sorted(number_list))  # Output: False\n"
   ]
  },
  {
   "cell_type": "markdown",
   "id": "76f58567-bfe8-4092-ba8a-685ceb3d9626",
   "metadata": {},
   "source": [
    "17. Write a Python program to find the intersection of two lists.\n"
   ]
  },
  {
   "cell_type": "code",
   "execution_count": 2,
   "id": "8fbea28c-cffc-40bf-b861-fd2081c80c65",
   "metadata": {},
   "outputs": [
    {
     "name": "stdout",
     "output_type": "stream",
     "text": [
      "[2, 6, 8, 4, 7, 8]\n"
     ]
    }
   ],
   "source": [
    "lst1 = [1,2,5,6,8,4,7,8]\n",
    "lst2 = [3,6,3,2,7,8,4,9]\n",
    "\n",
    "def findIntersection(lst1,lst2):\n",
    "    lst3 = []\n",
    "    for i in lst1:\n",
    "        if i in lst2:\n",
    "            lst3.append(i)\n",
    "    return lst3\n",
    "\n",
    "result = findIntersection(lst1,lst2)\n",
    "print(result)"
   ]
  },
  {
   "cell_type": "markdown",
   "id": "68c53e7b-fdf9-4336-af53-862583045dfc",
   "metadata": {},
   "source": [
    "18. Implement a function to find the maximum subarray sum in a given list."
   ]
  },
  {
   "cell_type": "code",
   "execution_count": 1,
   "id": "3e384638-7aa3-41cc-9fe3-fd1776e22229",
   "metadata": {},
   "outputs": [],
   "source": [
    "nums = [1,4,7,-3,7,-4,9,4,-8,-2]\n",
    "def maxm_subarray(nums):\n",
    "    max_sum = 0\n",
    "    "
   ]
  },
  {
   "cell_type": "markdown",
   "id": "b0ca5d73-dace-4638-92b9-9bfdb4486e91",
   "metadata": {},
   "source": [
    "19. Write a program to remove all vowels from a given string.\n"
   ]
  },
  {
   "cell_type": "code",
   "execution_count": 1,
   "id": "6933f3c8-a24a-4a91-84de-07097493958e",
   "metadata": {},
   "outputs": [
    {
     "name": "stdout",
     "output_type": "stream",
     "text": [
      "Hll, Wrld!\n"
     ]
    }
   ],
   "source": [
    "def remove_vowels(string):\n",
    "    vowels = \"aeiouAEIOU\"\n",
    "    return ''.join(char for char in string if char not in vowels)\n",
    "\n",
    "\n",
    "input_string = \"Hello, World!\"\n",
    "result = remove_vowels(input_string)\n",
    "print(result)\n",
    "\n"
   ]
  },
  {
   "cell_type": "markdown",
   "id": "4b989d61-1ee9-4566-9d4a-1847c66a39fa",
   "metadata": {},
   "source": [
    "20 Function to reverse the order of words in a given sentence:\n"
   ]
  },
  {
   "cell_type": "code",
   "execution_count": 2,
   "id": "1c8b35a8-9654-4982-b222-00cadea36b86",
   "metadata": {},
   "outputs": [
    {
     "name": "stdout",
     "output_type": "stream",
     "text": [
      "World! Hello,\n"
     ]
    }
   ],
   "source": [
    "def reverse_sentence(sentence):\n",
    "    words = sentence.split()\n",
    "    reversed_words = words[::-1]\n",
    "    reversed_sentence = ' '.join(reversed_words)\n",
    "    return reversed_sentence\n",
    "\n",
    "# Example usage\n",
    "input_sentence = \"Hello, World!\"\n",
    "result = reverse_sentence(input_sentence)\n",
    "print(result)  # Output: World! Hello,\n"
   ]
  },
  {
   "cell_type": "markdown",
   "id": "a2003723-7c19-417e-97e2-beb5a2ee1cad",
   "metadata": {},
   "source": [
    "Python program to check if two strings are anagrams of each other:"
   ]
  },
  {
   "cell_type": "code",
   "execution_count": 4,
   "id": "4ac6f72e-7d9d-4653-a057-2c16f70a0e2e",
   "metadata": {},
   "outputs": [
    {
     "name": "stdout",
     "output_type": "stream",
     "text": [
      "True\n"
     ]
    }
   ],
   "source": [
    "def check_anagram(string1, string2):\n",
    "    sorted_string1 = sorted(string1)\n",
    "    sorted_string2 = sorted(string2)\n",
    "    return sorted_string1 == sorted_string2\n",
    "\n",
    "# Example usage\n",
    "input_string1 = \"listen\"\n",
    "input_string2 = \"silent\"\n",
    "result = check_anagram(input_string1, input_string2)\n",
    "print(result)\n"
   ]
  },
  {
   "cell_type": "markdown",
   "id": "5c0fce5f-4fb6-4fe5-a164-d2a184114f0a",
   "metadata": {},
   "source": [
    "Function to find the first non-repeating character in a string:\n"
   ]
  },
  {
   "cell_type": "code",
   "execution_count": 6,
   "id": "7fe37b7d-9486-4dce-9a6e-990c178568a5",
   "metadata": {},
   "outputs": [
    {
     "name": "stdout",
     "output_type": "stream",
     "text": [
      "c\n"
     ]
    }
   ],
   "source": [
    "def find_first_non_repeating(string):\n",
    "    char_count = {}\n",
    "    for char in string:\n",
    "        if char in char_count:\n",
    "            char_count[char] += 1\n",
    "        else:\n",
    "            char_count[char] = 1\n",
    "\n",
    "    for char in string:\n",
    "        if char_count[char] == 1:\n",
    "            return char\n",
    "\n",
    "    return None\n",
    "\n",
    "\n",
    "input_string = \"abracadabra\"\n",
    "result = find_first_non_repeating(input_string)\n",
    "print(result) \n"
   ]
  },
  {
   "cell_type": "markdown",
   "id": "4470be87-d83d-47fd-ad6c-2d01ca24598b",
   "metadata": {},
   "source": [
    "Program to find the prime factors of a given number:"
   ]
  },
  {
   "cell_type": "code",
   "execution_count": 5,
   "id": "0dda0f79-9026-4cd2-8ff4-c3a1784bd0f2",
   "metadata": {},
   "outputs": [
    {
     "name": "stdout",
     "output_type": "stream",
     "text": [
      "[2, 2, 3, 7]\n"
     ]
    }
   ],
   "source": [
    "def find_prime_factors(number):\n",
    "    factors = []\n",
    "    divisor = 2\n",
    "\n",
    "    while divisor <= number:\n",
    "        if number % divisor == 0:\n",
    "            factors.append(divisor)\n",
    "            number = number / divisor\n",
    "        else:\n",
    "            divisor += 1\n",
    "\n",
    "    return factors\n",
    "\n",
    "# Example usage\n",
    "input_number = 84\n",
    "result = find_prime_factors(input_number)\n",
    "print(result) \n"
   ]
  },
  {
   "cell_type": "markdown",
   "id": "a2bb812b-87cb-4e85-8582-be44fee4a35a",
   "metadata": {},
   "source": [
    "Function to check if a given number is a power of two:"
   ]
  },
  {
   "cell_type": "code",
   "execution_count": null,
   "id": "07289fe6-9578-4846-8d41-7dab12f84d85",
   "metadata": {},
   "outputs": [],
   "source": [
    "def is_power_of_two(number):\n",
    "    if number <= 0:\n",
    "        return False\n",
    "    return (number & (number - 1)) == 0\n",
    "\n",
    "# Example usage\n",
    "input_number = 16\n",
    "result = is_power_of_two(input_number)\n",
    "print(result)  # Output: True\n"
   ]
  },
  {
   "cell_type": "markdown",
   "id": "c15a6b19-0b27-49d3-8cbe-f33223398cae",
   "metadata": {},
   "source": [
    "Python program to merge two sorted lists into a single sorted list:"
   ]
  },
  {
   "cell_type": "code",
   "execution_count": 7,
   "id": "bbd5ceb6-1f4f-49f9-b16f-3fcc5e44f0d6",
   "metadata": {},
   "outputs": [
    {
     "name": "stdout",
     "output_type": "stream",
     "text": [
      "[1, 3, 5, 7, 2, 4, 6, 8]\n"
     ]
    }
   ],
   "source": [
    "list1 = [1, 3, 5, 7]\n",
    "list2 = [2, 4, 6, 8]\n",
    "\n",
    "merged_list = []\n",
    "for i in list1:\n",
    "    merged_list.append(i)\n",
    "for j in list2:\n",
    "    merged_list.append(j)\n",
    "print(merged_list)"
   ]
  },
  {
   "cell_type": "markdown",
   "id": "4ff2ff0d-23f6-4ede-8872-c8398c26d4b3",
   "metadata": {},
   "source": [
    "Function to find the mode of a list of numbers:"
   ]
  },
  {
   "cell_type": "code",
   "execution_count": 12,
   "id": "385a67c4-6e2f-4a77-866d-f07366426f90",
   "metadata": {},
   "outputs": [
    {
     "name": "stdout",
     "output_type": "stream",
     "text": [
      "[4]\n"
     ]
    }
   ],
   "source": [
    "def find_mode(numbers):\n",
    "    frequency = {}\n",
    "    max_count = 0\n",
    "    modes = []\n",
    "\n",
    "    for num in numbers:\n",
    "        if num in frequency:\n",
    "            frequency[num] += 1\n",
    "        else:\n",
    "            frequency[num] = 1\n",
    "\n",
    "        if frequency[num] > max_count:\n",
    "            max_count = frequency[num]\n",
    "\n",
    "    for num, count in frequency.items():\n",
    "        if count == max_count:\n",
    "            modes.append(num)\n",
    "\n",
    "    return modes\n",
    "input_list = [1, 2, 2, 3, 3, 3, 4, 4, 4, 4]\n",
    "result = find_mode(input_list)\n",
    "print(result)"
   ]
  },
  {
   "cell_type": "markdown",
   "id": "c648f129-b7ce-4038-a76d-4e1d2f0bb435",
   "metadata": {},
   "source": [
    "27. Write a program to find the greatest common divisor (GCD) of two numbers"
   ]
  },
  {
   "cell_type": "code",
   "execution_count": 5,
   "id": "cbe450a6-4047-4abc-abca-740ab2f01401",
   "metadata": {},
   "outputs": [
    {
     "name": "stdout",
     "output_type": "stream",
     "text": [
      "12\n"
     ]
    }
   ],
   "source": [
    "num1 = 36\n",
    "num2 = 24\n",
    "\n",
    "GCD = {}\n",
    "if num1>num2:\n",
    "    mn = num2\n",
    "else:\n",
    "    mn = num1\n",
    "for i in range(1, mn+1):\n",
    "    if num1%i==0 and num2%i == 0:\n",
    "        GCD = i\n",
    "print(GCD)"
   ]
  },
  {
   "cell_type": "markdown",
   "id": "99181340-0a37-40d6-b079-106c598a1218",
   "metadata": {},
   "source": [
    "28. Implement a function to calculate the square root of a given number."
   ]
  },
  {
   "cell_type": "code",
   "execution_count": 6,
   "id": "f96bbb1b-4fe5-44f6-80e0-468b4a7fd3f5",
   "metadata": {},
   "outputs": [
    {
     "name": "stdin",
     "output_type": "stream",
     "text": [
      "Enter the Number: 36\n"
     ]
    },
    {
     "name": "stdout",
     "output_type": "stream",
     "text": [
      "6.0\n"
     ]
    }
   ],
   "source": [
    "import math\n",
    "def cal_sqrt(num):\n",
    "    if num<0:\n",
    "        raise ValueError(\"sqrt is not defined to -ve number\")\n",
    "    sq_root = math.sqrt(num)\n",
    "    return sq_root\n",
    "num = int(input(\"Enter the Number:\"))\n",
    "print(cal_sqrt(num))"
   ]
  },
  {
   "cell_type": "markdown",
   "id": "e6f93447-1cea-4698-9caf-70f3fdb1e52a",
   "metadata": {},
   "source": [
    "29. Write a Python program to check if a given string is a valid palindrome ignoring non-alphanumeric characters\n"
   ]
  },
  {
   "cell_type": "code",
   "execution_count": 1,
   "id": "99a7cced-fe02-49bc-aa8e-3ce1ded74d1a",
   "metadata": {},
   "outputs": [
    {
     "name": "stdout",
     "output_type": "stream",
     "text": [
      "True\n"
     ]
    }
   ],
   "source": [
    "import re\n",
    "\n",
    "def is_valid_palindrome(string):\n",
    "    # Convert the string to lowercase\n",
    "    string = string.lower()\n",
    "\n",
    "    # Remove non-alphanumeric characters using regular expressions\n",
    "    string = re.sub(r'[^a-zA-Z0-9]', '', string)\n",
    "\n",
    "    # Compare the modified string with its reverse\n",
    "    return string == string[::-1]\n",
    "\n",
    "# Example usage\n",
    "input_string = \"A man, a plan, a canal: Panama!\"\n",
    "result = is_valid_palindrome(input_string)\n",
    "print(result)  # Output: True\n"
   ]
  },
  {
   "cell_type": "markdown",
   "id": "7b2ec95c-c9bb-4ad0-82bc-9b4dbbc47ce3",
   "metadata": {},
   "source": [
    "30. Implement a function to find the minimum element in a rotated sorted list.\n"
   ]
  },
  {
   "cell_type": "code",
   "execution_count": 3,
   "id": "dc9ab39f-27d1-4e5a-b82d-d67efe73fa83",
   "metadata": {},
   "outputs": [
    {
     "name": "stdout",
     "output_type": "stream",
     "text": [
      "1\n"
     ]
    }
   ],
   "source": [
    "def find_minimum(nums):\n",
    "    left = 0\n",
    "    right = len(nums) - 1\n",
    "\n",
    "    # If the list is not rotated\n",
    "    if nums[left] <= nums[right]:\n",
    "        return nums[left]\n",
    "\n",
    "    # Perform binary search to find the minimum element\n",
    "    while left <= right:\n",
    "        mid = left + (right - left) // 2\n",
    "\n",
    "        # Check if the middle element is the minimum\n",
    "        if nums[mid] > nums[mid + 1]:\n",
    "            return nums[mid + 1]\n",
    "\n",
    "        # Check if the middle element is the maximum\n",
    "        if nums[mid] < nums[mid - 1]:\n",
    "            return nums[mid]\n",
    "\n",
    "        # Adjust the search range based on the comparison with the leftmost element\n",
    "        if nums[mid] >= nums[left]:\n",
    "            left = mid + 1\n",
    "        else:\n",
    "            right = mid - 1\n",
    "\n",
    "# Example usage\n",
    "input_list = [4, 5, 6, 7,  1, 2]\n",
    "result = find_minimum(input_list)\n",
    "print(result)  # Output: 0\n"
   ]
  },
  {
   "cell_type": "markdown",
   "id": "b10ffdd8-9529-4fc1-b139-9164a97a393b",
   "metadata": {},
   "source": [
    "31. Write a program to find the sum of all even numbers in a list."
   ]
  },
  {
   "cell_type": "code",
   "execution_count": 2,
   "id": "1255d81b-d980-4352-99f4-ce1adece593d",
   "metadata": {},
   "outputs": [
    {
     "name": "stdout",
     "output_type": "stream",
     "text": [
      "42\n"
     ]
    }
   ],
   "source": [
    "lst = [1,2,3,4,5,6,7,7,8,9,10,11,12]\n",
    "\n",
    "total_even_sum = 0\n",
    "for num in lst:\n",
    "    if num%2==0:\n",
    "        total_even_sum += num\n",
    "        \n",
    "print(total_even_sum)"
   ]
  },
  {
   "cell_type": "markdown",
   "id": "831350cb-a161-4750-980a-5f0aab15fdcd",
   "metadata": {},
   "source": [
    "32. Implement a function to calculate the power of a number using recursion."
   ]
  },
  {
   "cell_type": "code",
   "execution_count": 3,
   "id": "9cc03f6a-5be2-4be0-aa67-b9b3cbab0e8a",
   "metadata": {},
   "outputs": [
    {
     "name": "stdout",
     "output_type": "stream",
     "text": [
      "8\n"
     ]
    }
   ],
   "source": [
    "def power(base, exponent):\n",
    "    if exponent == 0:\n",
    "        return 1\n",
    "    elif exponent > 0:\n",
    "        return base * power(base, exponent - 1)\n",
    "    else:\n",
    "        return 1 / (base * power(base, -exponent - 1))\n",
    "\n",
    "# Example usage\n",
    "base = 2\n",
    "exponent = 3\n",
    "result = power(base, exponent)\n",
    "print(result)  # Output: 8\n"
   ]
  },
  {
   "cell_type": "markdown",
   "id": "5e312ea8-1266-40cf-b16b-1b4638e4fdc2",
   "metadata": {},
   "source": [
    "33. Write a Python program to remove duplicates from a list while preserving the order.\n"
   ]
  },
  {
   "cell_type": "code",
   "execution_count": 2,
   "id": "0b577f84-9bb7-4590-a107-5c85b0b7c21d",
   "metadata": {},
   "outputs": [
    {
     "name": "stdout",
     "output_type": "stream",
     "text": [
      "[1, 3, 2, 4, 5, 6]\n"
     ]
    }
   ],
   "source": [
    "def remove_duplicates_preserve_order(lst):\n",
    "    seen = set()\n",
    "    result = []\n",
    "    for item in lst:\n",
    "        if item not in seen:\n",
    "            seen.add(item)\n",
    "            result.append(item)\n",
    "            \n",
    "    return result\n",
    "\n",
    "\n",
    "input_list = [1, 3, 2, 2, 4, 3, 1, 5, 6, 5]\n",
    "result = remove_duplicates_preserve_order(input_list)\n",
    "print(result)\n"
   ]
  },
  {
   "cell_type": "markdown",
   "id": "48fd3685-c1a6-4740-935b-9855a746b63f",
   "metadata": {},
   "source": [
    "34. Implement a function to find the longest common prefix among a list of strings."
   ]
  },
  {
   "cell_type": "code",
   "execution_count": 7,
   "id": "8e47f6e5-a7c6-4f40-9b7d-0e11e1c5511e",
   "metadata": {},
   "outputs": [],
   "source": [
    "list1 = [\"apple\", \"application\",\"apply\"]\n",
    "\n",
    "    "
   ]
  },
  {
   "cell_type": "markdown",
   "id": "735b6b98-8dd1-4417-a76d-60f62071fb1d",
   "metadata": {},
   "source": [
    "35. Write a program to check if a given number is a perfect square.\n"
   ]
  },
  {
   "cell_type": "code",
   "execution_count": 3,
   "id": "e1f1f19e-c0d6-4543-b405-abe3a4d751ff",
   "metadata": {},
   "outputs": [
    {
     "name": "stdout",
     "output_type": "stream",
     "text": [
      "True\n"
     ]
    }
   ],
   "source": [
    "def is_perfect_square(number):\n",
    "    sqrt = int(number ** 0.5)\n",
    "    return sqrt * sqrt == number\n",
    "\n",
    "# Example usage\n",
    "num =25\n",
    "result = is_perfect_square(num)\n",
    "print(result)\n"
   ]
  },
  {
   "cell_type": "markdown",
   "id": "0f6b06a9-e242-48bf-962d-2da25b97c2d2",
   "metadata": {},
   "source": [
    "36. Implement a function to calculate the product of all elements in a list"
   ]
  },
  {
   "cell_type": "code",
   "execution_count": 6,
   "id": "a3fb15a1-4c8e-4f21-b276-4c6474ecdf29",
   "metadata": {},
   "outputs": [
    {
     "name": "stdout",
     "output_type": "stream",
     "text": [
      "21600\n"
     ]
    }
   ],
   "source": [
    "lst = [1, 3, 2, 2, 4, 3, 1, 5, 6, 5]\n",
    "product = 1\n",
    "for num in lst:\n",
    "    product *= num\n",
    "print(product)"
   ]
  },
  {
   "cell_type": "markdown",
   "id": "aadf6b5e-36d9-46e1-8de8-de838fdc685f",
   "metadata": {},
   "source": [
    "37. Write a Python program to reverse the order of words in a sentence while preserving the\n",
    "word order"
   ]
  },
  {
   "cell_type": "code",
   "execution_count": 1,
   "id": "2b7732cc-9fa1-46ce-beef-664db3f52807",
   "metadata": {},
   "outputs": [
    {
     "name": "stdout",
     "output_type": "stream",
     "text": [
      "you? are how Hello,\n"
     ]
    }
   ],
   "source": [
    "def reverse_words(sentence):\n",
    "    words = sentence.split()\n",
    "    reversed_words = words[::-1]\n",
    "    reversed_sentence = ' '.join(reversed_words)\n",
    "    return reversed_sentence\n",
    "\n",
    "\n",
    "input_sentence = \"Hello, how are you?\"\n",
    "result = reverse_words(input_sentence)\n",
    "print(result) \n"
   ]
  },
  {
   "cell_type": "markdown",
   "id": "fcecd967-7bc4-45bd-852b-7e7373fa2a9a",
   "metadata": {},
   "source": [
    "38. Implement a function to find the missing number in a given list of consecutive numbers."
   ]
  },
  {
   "cell_type": "code",
   "execution_count": 21,
   "id": "d6be5ae9-ad68-402b-b56d-863f7138eae6",
   "metadata": {},
   "outputs": [
    {
     "name": "stdout",
     "output_type": "stream",
     "text": [
      "[2, 5, 8]\n"
     ]
    }
   ],
   "source": [
    "lst = [1,3,4,6,7,9]\n",
    "\n",
    "def missing_number(lst):\n",
    "    missed_nums = []\n",
    "    for i in range(len(lst)-1):\n",
    "        if lst[i+1] != lst[i] + 1:\n",
    "            missed_nums.append(lst[i] + 1)\n",
    "    return missed_nums\n",
    "print(missing_number(lst))"
   ]
  },
  {
   "cell_type": "markdown",
   "id": "158be845-38a4-4840-9ded-4ca7474329b8",
   "metadata": {},
   "source": [
    "39. Write a program to find the sum of digits of a given number."
   ]
  },
  {
   "cell_type": "code",
   "execution_count": 4,
   "id": "87151e76-bf75-4e7e-ba9b-705b2289e01c",
   "metadata": {},
   "outputs": [
    {
     "name": "stdout",
     "output_type": "stream",
     "text": [
      "15\n"
     ]
    }
   ],
   "source": [
    "num = 12345\n",
    "\n",
    "def sum_of_digit(num):\n",
    "    str_num = str(num)\n",
    "    digits_sum = 0\n",
    "    for i in str_num:\n",
    "        digits_sum += int(i)\n",
    "    return digits_sum\n",
    "\n",
    "print(sum_of_digit(num))\n",
    "        "
   ]
  },
  {
   "cell_type": "markdown",
   "id": "078d54cc-16ae-4f38-aeaa-07c5da36cf80",
   "metadata": {},
   "source": [
    "40. Implement a function to check if a given string is a valid palindrome considering case\n",
    "sensitivity"
   ]
  },
  {
   "cell_type": "code",
   "execution_count": 1,
   "id": "00d34abf-6fe7-4b6c-9449-9ebac33f1642",
   "metadata": {},
   "outputs": [
    {
     "name": "stdout",
     "output_type": "stream",
     "text": [
      "True\n"
     ]
    }
   ],
   "source": [
    "def is_valid_palindrome(string):\n",
    "    # Remove non-alphanumeric characters and convert to lowercase\n",
    "    cleaned_string = ''.join(ch.lower() for ch in string if ch.isalnum())\n",
    "    # Check if the cleaned string is equal to its reverse\n",
    "    return cleaned_string == cleaned_string[::-1]\n",
    "\n",
    "string = \"iTopiNonAvevanoNipoti\"\n",
    "print(is_valid_palindrome(string))"
   ]
  },
  {
   "cell_type": "markdown",
   "id": "91edb2d2-2c0e-4f9d-876c-2e215ec2f84c",
   "metadata": {},
   "source": [
    "41. Write a Python program to find the smallest missing positive integer in a list"
   ]
  },
  {
   "cell_type": "code",
   "execution_count": 4,
   "id": "08da6de1-bb4f-4d49-a2a5-d6fe7bb3be70",
   "metadata": {},
   "outputs": [
    {
     "name": "stdout",
     "output_type": "stream",
     "text": [
      "1\n"
     ]
    }
   ],
   "source": [
    "def find_smallest_missing_positive(nums):\n",
    "    n = len(nums)\n",
    "    # Move all positive numbers to the left side of the list\n",
    "    j = 0\n",
    "    for i in range(n):\n",
    "        if nums[i] <= 0:\n",
    "            nums[i], nums[j] = nums[j], nums[i]\n",
    "            j += 1\n",
    "    # Consider only the positive numbers\n",
    "    nums = nums[j:]\n",
    "    n = len(nums)\n",
    "    # Mark numbers as visited by converting their indices to negative\n",
    "    for i in range(n):\n",
    "        num = abs(nums[i])\n",
    "        if num <= n:\n",
    "            nums[num - 1] = -abs(nums[num - 1])\n",
    "    # Find the smallest positive number missing\n",
    "    for i in range(n):\n",
    "        if nums[i] > 0:\n",
    "            return i + 1\n",
    "    return n + 1\n",
    "lst = [2,5,6,9,10,11]\n",
    "print(find_smallest_missing_positive(lst))"
   ]
  },
  {
   "cell_type": "markdown",
   "id": "2244ff97-9c30-473a-b54f-351e3d7dd280",
   "metadata": {},
   "source": [
    "42. Implement a function to find the longest palindrome substring in a given string."
   ]
  },
  {
   "cell_type": "code",
   "execution_count": 5,
   "id": "ffa030af-6d10-45cd-8a28-7c7ffff54c4e",
   "metadata": {},
   "outputs": [
    {
     "name": "stdout",
     "output_type": "stream",
     "text": [
      "bab\n"
     ]
    }
   ],
   "source": [
    "def longest_palindrome_substring(string):\n",
    "    n = len(string)\n",
    "    if n < 2:\n",
    "        return string\n",
    "    \n",
    "    def expand_around_center(left, right):\n",
    "        while left >= 0 and right < n and string[left] == string[right]:\n",
    "            left -= 1\n",
    "            right += 1\n",
    "        return string[left + 1:right]\n",
    "\n",
    "    longest_palindrome = ''\n",
    "    for i in range(n):\n",
    "        # For odd-length palindromes\n",
    "        odd_palindrome = expand_around_center(i, i)\n",
    "        if len(odd_palindrome) > len(longest_palindrome):\n",
    "            longest_palindrome = odd_palindrome\n",
    "\n",
    "        # For even-length palindromes\n",
    "        even_palindrome = expand_around_center(i, i + 1)\n",
    "        if len(even_palindrome) > len(longest_palindrome):\n",
    "            longest_palindrome = even_palindrome\n",
    "\n",
    "    return longest_palindrome\n",
    "s = \"babad\"\n",
    "result = longest_palindrome_substring(s)\n",
    "print(result) \n"
   ]
  },
  {
   "cell_type": "markdown",
   "id": "32cc7d12-ff21-46f1-b4d7-5faa8885500a",
   "metadata": {},
   "source": [
    "43. Write a program to find the number of occurrences of a given element in a list\n",
    "\n"
   ]
  },
  {
   "cell_type": "code",
   "execution_count": 6,
   "id": "ff3a64ee-e39d-49c5-8ebf-2d1cf4490759",
   "metadata": {},
   "outputs": [
    {
     "name": "stdout",
     "output_type": "stream",
     "text": [
      "The element 2 occurs 5 time(s) in the list.\n"
     ]
    }
   ],
   "source": [
    "def count_occurrences(lst, element):\n",
    "    count = 0\n",
    "    for item in lst:\n",
    "        if item == element:\n",
    "            count += 1\n",
    "    return count\n",
    "\n",
    "# Example usage\n",
    "my_list = [1, 2, 3, 4, 2, 2, 5, 2, 6, 7, 2]\n",
    "element = 2\n",
    "occurrences = count_occurrences(my_list, element)\n",
    "print(f\"The element {element} occurs {occurrences} time(s) in the list.\")\n"
   ]
  },
  {
   "cell_type": "markdown",
   "id": "8146bee4-4ec6-47b3-9974-144218ee48b4",
   "metadata": {},
   "source": [
    "44. Implement a function to check if a given number is a perfect number.\n"
   ]
  },
  {
   "cell_type": "code",
   "execution_count": 8,
   "id": "1f8e15f5-5ef8-4db3-8135-1f0e7bc1dc75",
   "metadata": {},
   "outputs": [
    {
     "name": "stdout",
     "output_type": "stream",
     "text": [
      "True\n"
     ]
    }
   ],
   "source": [
    "def is_perfect_number(number):\n",
    "    if number <= 1:\n",
    "        return False\n",
    "    divisors_sum = 1\n",
    "    for i in range(2, int(number ** 0.5) + 1):\n",
    "        if number % i == 0:\n",
    "            divisors_sum += i\n",
    "            if i != number // i:\n",
    "                divisors_sum += number // i\n",
    "    return divisors_sum == number\n",
    "num = 28\n",
    "result = is_perfect_number(num)\n",
    "print(result)  \n"
   ]
  },
  {
   "cell_type": "markdown",
   "id": "01e06712-98b8-41de-a9b7-37f31c0c6643",
   "metadata": {},
   "source": [
    "45. Write a Python program to remove all duplicates from a string.\n"
   ]
  },
  {
   "cell_type": "code",
   "execution_count": 2,
   "id": "1714bfb9-2085-47d6-aa85-88f4d3e7cc64",
   "metadata": {},
   "outputs": [
    {
     "name": "stdout",
     "output_type": "stream",
     "text": [
      "Helo, Wrd!\n"
     ]
    }
   ],
   "source": [
    "def remove_duplicates(string):\n",
    "    unique_chars = set()\n",
    "    result = ''\n",
    "    for char in string:\n",
    "        if char not in unique_chars:\n",
    "            unique_chars.add(char)\n",
    "            result += char\n",
    "    return result\n",
    "\n",
    "# Example usage\n",
    "s = \"Hello, World!\"\n",
    "result = remove_duplicates(s)\n",
    "print(result) \n"
   ]
  },
  {
   "cell_type": "markdown",
   "id": "6f321ab4-fe61-4135-8607-c4c6e9afa708",
   "metadata": {},
   "source": [
    "46. Implement a function to find the first missing positive"
   ]
  },
  {
   "cell_type": "code",
   "execution_count": 3,
   "id": "21ff41d7-f698-452e-a633-70983c125c62",
   "metadata": {},
   "outputs": [
    {
     "name": "stdout",
     "output_type": "stream",
     "text": [
      "2\n"
     ]
    }
   ],
   "source": [
    "def find_first_missing_positive(nums):\n",
    "    n = len(nums)\n",
    "    i = 0\n",
    "    while i < n:\n",
    "        if 0 < nums[i] <= n and nums[i] != nums[nums[i] - 1]:\n",
    "            # Swap the number to its correct position\n",
    "            nums[nums[i] - 1], nums[i] = nums[i], nums[nums[i] - 1]\n",
    "        else:\n",
    "            i += 1\n",
    "    for i in range(n):\n",
    "        if nums[i] != i + 1:\n",
    "            return i + 1\n",
    "    return n + 1\n",
    "my_list = [3, 4, -1, 1]\n",
    "result = find_first_missing_positive(my_list)\n",
    "print(result)  \n"
   ]
  },
  {
   "cell_type": "code",
   "execution_count": null,
   "id": "6957ea49-7dbf-4a54-a598-e6e021e36609",
   "metadata": {},
   "outputs": [],
   "source": []
  }
 ],
 "metadata": {
  "kernelspec": {
   "display_name": "Python 3 (ipykernel)",
   "language": "python",
   "name": "python3"
  },
  "language_info": {
   "codemirror_mode": {
    "name": "ipython",
    "version": 3
   },
   "file_extension": ".py",
   "mimetype": "text/x-python",
   "name": "python",
   "nbconvert_exporter": "python",
   "pygments_lexer": "ipython3",
   "version": "3.10.8"
  }
 },
 "nbformat": 4,
 "nbformat_minor": 5
}
